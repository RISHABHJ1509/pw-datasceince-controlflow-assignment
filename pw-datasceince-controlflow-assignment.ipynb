{
 "cells": [
  {
   "cell_type": "code",
   "execution_count": 1,
   "id": "df9b1e2c",
   "metadata": {},
   "outputs": [
    {
     "name": "stdout",
     "output_type": "stream",
     "text": [
      "positive\n"
     ]
    }
   ],
   "source": [
    "#Basic If-Else Statements:\n",
    "\n",
    "#1. Write a Python program to check if a given number is positive or negative.\n",
    "a = 10\n",
    "if a>=0:\n",
    "    print('positive')\n",
    "else:\n",
    "    print('negative')"
   ]
  },
  {
   "cell_type": "code",
   "execution_count": 2,
   "id": "a0730c35",
   "metadata": {},
   "outputs": [
    {
     "name": "stdout",
     "output_type": "stream",
     "text": [
      "enter your age17\n",
      "you are a kid not eligible\n"
     ]
    }
   ],
   "source": [
    "#2. Create a program that determines if a person is eligible to vote based on their age.\n",
    "a = int(input('enter your age'))\n",
    "if a>=18:\n",
    "    print('eligible')\n",
    "else:\n",
    "    print('you are a kid not eligible')"
   ]
  },
  {
   "cell_type": "code",
   "execution_count": 3,
   "id": "91dc4607",
   "metadata": {},
   "outputs": [
    {
     "name": "stdout",
     "output_type": "stream",
     "text": [
      "b is max\n"
     ]
    }
   ],
   "source": [
    "#3. Develop a program to find the maximum of two numbers using if-else statements.\n",
    "a = 10\n",
    "b = 15\n",
    "if a>b:\n",
    "    print('a is max')\n",
    "else:\n",
    "    print('b is max')"
   ]
  },
  {
   "cell_type": "code",
   "execution_count": 4,
   "id": "10355c00",
   "metadata": {},
   "outputs": [
    {
     "name": "stdout",
     "output_type": "stream",
     "text": [
      "leap year\n"
     ]
    }
   ],
   "source": [
    "#4. Write a Python script to classify a given year as a leap year or not.\n",
    "a = 2000\n",
    "if a%4==0:\n",
    "    print('leap year')\n",
    "else:\n",
    "    print('not a leap')"
   ]
  },
  {
   "cell_type": "code",
   "execution_count": 9,
   "id": "f93823e2",
   "metadata": {},
   "outputs": [
    {
     "name": "stdout",
     "output_type": "stream",
     "text": [
      "vowel\n"
     ]
    }
   ],
   "source": [
    "#5. Create a program that checks whether a character is a vowel or a consonant.\n",
    "a = 'i'\n",
    "b = 'aeiou'\n",
    "if a in b:\n",
    "    print('vowel')\n",
    "else:\n",
    "    print('not vowel')"
   ]
  },
  {
   "cell_type": "code",
   "execution_count": 10,
   "id": "354f997d",
   "metadata": {},
   "outputs": [
    {
     "name": "stdout",
     "output_type": "stream",
     "text": [
      "even\n"
     ]
    }
   ],
   "source": [
    "#6. Implement a program to determine whether a given number is even or odd.\n",
    "a = 8\n",
    "if a%2==0:\n",
    "    print('even')\n",
    "else:\n",
    "    print('odd')"
   ]
  },
  {
   "cell_type": "code",
   "execution_count": 13,
   "id": "a4bc64d7",
   "metadata": {},
   "outputs": [
    {
     "data": {
      "text/plain": [
       "50"
      ]
     },
     "execution_count": 13,
     "metadata": {},
     "output_type": "execute_result"
    }
   ],
   "source": [
    "#7. Write a Python function to calculate the absolute value of a number without using the `abs()` function.\n",
    "def absolute_value(num):\n",
    "    \"\"\"This function returns the absolute\n",
    "    value of the entered number\"\"\"\n",
    "\n",
    "    if num >= 0:\n",
    "        return num\n",
    "    else:\n",
    "        return -num\n",
    "absolute_value(-50)"
   ]
  },
  {
   "cell_type": "code",
   "execution_count": 15,
   "id": "c5b0e42a",
   "metadata": {},
   "outputs": [
    {
     "name": "stdout",
     "output_type": "stream",
     "text": [
      "c is max\n"
     ]
    }
   ],
   "source": [
    "#8. Develop a program that determines the largest of three given numbers using if-else statements.\n",
    "a = 5\n",
    "b = 10\n",
    "c = 15\n",
    "if a>b and a>c:\n",
    "    print('max is a')\n",
    "elif b>a and b>c:\n",
    "    print('b is max')\n",
    "else:\n",
    "    print('c is max')\n"
   ]
  },
  {
   "cell_type": "code",
   "execution_count": 16,
   "id": "71396cdc",
   "metadata": {},
   "outputs": [
    {
     "name": "stdout",
     "output_type": "stream",
     "text": [
      "palindrome\n"
     ]
    }
   ],
   "source": [
    "#9. Create a program that checks if a given string is a palindrome.\n",
    "a = 'radar'\n",
    "if a[:]==a[::-1]:\n",
    "    print('palindrome')\n",
    "else:\n",
    "    print('not palindrome')\n"
   ]
  },
  {
   "cell_type": "code",
   "execution_count": 19,
   "id": "01f5dfd7",
   "metadata": {},
   "outputs": [
    {
     "name": "stdout",
     "output_type": "stream",
     "text": [
      "good\n"
     ]
    }
   ],
   "source": [
    "#10. Write a Python program to calculate the grade based on a student's score\n",
    "a = 85\n",
    "if a<=33:\n",
    "    print('fail')\n",
    "elif a<=60:\n",
    "    print('average')\n",
    "elif a<=80:\n",
    "    print('above average')\n",
    "elif a<=100:\n",
    "    print('good')"
   ]
  },
  {
   "cell_type": "code",
   "execution_count": 25,
   "id": "b0fcad23",
   "metadata": {},
   "outputs": [
    {
     "name": "stdout",
     "output_type": "stream",
     "text": [
      "largest number is num3  15\n"
     ]
    },
    {
     "data": {
      "text/plain": [
       "15"
      ]
     },
     "execution_count": 25,
     "metadata": {},
     "output_type": "execute_result"
    }
   ],
   "source": [
    "#Nested If-Else Statements:\n",
    "\n",
    "#11. Write a program to find the largest among three numbers using nested if-else statements.\n",
    "num1 = 5\n",
    "num2 = 10\n",
    "num3 = 15\n",
    "# Compare the numbers to find the largest\n",
    "if num1 >= num2:\n",
    "    if num1 >= num3:\n",
    "        largest = num1\n",
    "        print('largest number is num1 ',largest)\n",
    "    else:\n",
    "        largest = num3\n",
    "        print('largest number is num3 ',largest)\n",
    "else:\n",
    "    if num2 >= num3:\n",
    "        largest = num2\n",
    "        print('largest number is num2 ',largest)\n",
    "    else:\n",
    "        largest = num3\n",
    "        print('largest number is num3 ',largest)\n",
    "largest\n"
   ]
  },
  {
   "cell_type": "code",
   "execution_count": 26,
   "id": "2cbd2ea7",
   "metadata": {},
   "outputs": [
    {
     "name": "stdout",
     "output_type": "stream",
     "text": [
      "eqvilateral\n"
     ]
    }
   ],
   "source": [
    "#12. Implement a program to determine if a triangle is equilateral, isosceles, or scalene.\n",
    "base = 10\n",
    "height = 10\n",
    "hypotenus = 10\n",
    "if base==height==hypotenus:\n",
    "    print('eqvilateral')\n",
    "elif hypotenus==height!=base:\n",
    "    print('isosceles')\n",
    "elif base!=height!=hypotenus:\n",
    "    print('scalene')"
   ]
  },
  {
   "cell_type": "code",
   "execution_count": 3,
   "id": "5feb1f3f",
   "metadata": {},
   "outputs": [
    {
     "name": "stdout",
     "output_type": "stream",
     "text": [
      "not a century leap year\n"
     ]
    }
   ],
   "source": [
    "#13. Develop a program that checks if a year is a leap year and also if it is a century year.\n",
    "a = 1500\n",
    "if a%4==0 and a%400==0:\n",
    "    print('century leap year')\n",
    "else:\n",
    "    print('not a century leap year')"
   ]
  },
  {
   "cell_type": "code",
   "execution_count": 5,
   "id": "f978e222",
   "metadata": {},
   "outputs": [
    {
     "name": "stdout",
     "output_type": "stream",
     "text": [
      "zero\n"
     ]
    }
   ],
   "source": [
    "#14. Write a Python script to determine if a number is positive, negative, or zero.\n",
    "a = 0\n",
    "if a>0:\n",
    "    print('positive')\n",
    "elif a==0:\n",
    "    print('zero')\n",
    "else:\n",
    "    print('negative')"
   ]
  },
  {
   "cell_type": "code",
   "execution_count": 6,
   "id": "00591d12",
   "metadata": {},
   "outputs": [
    {
     "name": "stdout",
     "output_type": "stream",
     "text": [
      "tenager\n"
     ]
    }
   ],
   "source": [
    "#15. Create a program to check if a person is a teenager (between 13 and 19 years old).\n",
    "a  = 14\n",
    "if a<13:\n",
    "    print('kid')\n",
    "elif a>=13 and a<=18:\n",
    "    print('tenager')\n",
    "else:\n",
    "    print('adult')"
   ]
  },
  {
   "cell_type": "code",
   "execution_count": 7,
   "id": "0fae15bf",
   "metadata": {},
   "outputs": [
    {
     "name": "stdout",
     "output_type": "stream",
     "text": [
      "acute\n"
     ]
    }
   ],
   "source": [
    "#16. Develop a program that determines the type of angle based on its measure (acute, obtuse, or right).\n",
    "a = 50\n",
    "if a<90:\n",
    "    print('acute')\n",
    "elif a==0:\n",
    "    print('right')\n",
    "elif a>90 and a<180:\n",
    "    print('obtuse')"
   ]
  },
  {
   "cell_type": "code",
   "execution_count": 14,
   "id": "d8b9f1b6",
   "metadata": {},
   "outputs": [
    {
     "name": "stdout",
     "output_type": "stream",
     "text": [
      "2\n",
      "5\n"
     ]
    }
   ],
   "source": [
    "#17. Write a Python program to calculate the roots of a quadratic equation.\n",
    "\n",
    "for x in range(100):\n",
    "    a = x*x - 7*x + 10\n",
    "    if a==0:\n",
    "        print(x)\n",
    "   "
   ]
  },
  {
   "cell_type": "code",
   "execution_count": 15,
   "id": "248ce4b3",
   "metadata": {},
   "outputs": [
    {
     "name": "stdout",
     "output_type": "stream",
     "text": [
      "Enter a number (1-7) to determine the day of the week: 5\n",
      "The day of the week for 5 is Friday.\n"
     ]
    }
   ],
   "source": [
    "#18. Implement a program to determine the day of the week based on a user-provided number (1 for Monday, 2 for Tuesday, etc.)\n",
    "# Define a dictionary to map numbers to days of the week\n",
    "days_of_week = {\n",
    "    1: \"Monday\",\n",
    "    2: \"Tuesday\",\n",
    "    3: \"Wednesday\",\n",
    "    4: \"Thursday\",\n",
    "    5: \"Friday\",\n",
    "    6: \"Saturday\",\n",
    "    7: \"Sunday\"\n",
    "}\n",
    "\n",
    "# Ask the user for a number input\n",
    "user_input = int(input(\"Enter a number (1-7) to determine the day of the week: \"))\n",
    "\n",
    "# Check if the input is within the valid range\n",
    "if 1 <= user_input <= 7:\n",
    "    # Look up the corresponding day in the dictionary\n",
    "    day = days_of_week[user_input]\n",
    "    print(f\"The day of the week for {user_input} is {day}.\")\n",
    "else:\n",
    "    print(\"Invalid input. Please enter a number between 1 and 7.\")\n"
   ]
  },
  {
   "cell_type": "code",
   "execution_count": 17,
   "id": "51052361",
   "metadata": {},
   "outputs": [
    {
     "name": "stdout",
     "output_type": "stream",
     "text": [
      "century leap year\n"
     ]
    }
   ],
   "source": [
    "#19. Create a program that determines if a year is a leap year and also if it is evenly divisible by 400.\n",
    "a = 2000\n",
    "if a%4==0 and a%400==0:\n",
    "    print('century leap year')\n",
    "else:\n",
    "    print('not')\n"
   ]
  },
  {
   "cell_type": "code",
   "execution_count": 27,
   "id": "a4ab6d3f",
   "metadata": {},
   "outputs": [
    {
     "name": "stdout",
     "output_type": "stream",
     "text": [
      "not a prime number\n"
     ]
    }
   ],
   "source": [
    "#20. Develop a program that checks if a given number is prime or not using nested if-else statements\n",
    "a = 6\n",
    "def is_prime(num):\n",
    "    if num <= 1:\n",
    "        return False\n",
    "    for i in range(2, int(num**0.5) + 1):\n",
    "        if num % i == 0:\n",
    "            return False\n",
    "    return True\n",
    "if is_prime(a):\n",
    "    print('prime number' )\n",
    "else :\n",
    "    print('not a prime number')"
   ]
  },
  {
   "cell_type": "code",
   "execution_count": 28,
   "id": "bbb1a3de",
   "metadata": {},
   "outputs": [
    {
     "name": "stdout",
     "output_type": "stream",
     "text": [
      "a\n"
     ]
    }
   ],
   "source": [
    "#Elif Statements:\n",
    "\n",
    "#21. Write a Python program to assign grades based on different ranges of scores using elif statements.\n",
    "a = 85\n",
    "if a<=33:\n",
    "    print('f')\n",
    "elif a<=60:\n",
    "    print('c')\n",
    "elif a<=80:\n",
    "    print('b')\n",
    "elif a<=100:\n",
    "    print('a')"
   ]
  },
  {
   "cell_type": "code",
   "execution_count": 31,
   "id": "5b708d65",
   "metadata": {},
   "outputs": [
    {
     "name": "stdout",
     "output_type": "stream",
     "text": [
      "Enter the first angle of the triangle: 90\n",
      "Enter the second angle of the triangle: 45\n",
      "Enter the third angle of the triangle: 45\n",
      "It's a right-angled triangle.\n"
     ]
    }
   ],
   "source": [
    "#22. Implement a program to determine the type of a triangle based on its angles.\n",
    "# Get the three angles of the triangle from the user\n",
    "angle1 = float(input(\"Enter the first angle of the triangle: \"))\n",
    "angle2 = float(input(\"Enter the second angle of the triangle: \"))\n",
    "angle3 = float(input(\"Enter the third angle of the triangle: \"))\n",
    "\n",
    "# Check if the sum of angles is 180 degrees\n",
    "if angle1 + angle2 + angle3 == 180:\n",
    "    if angle1 == angle2 == angle3:\n",
    "        print(\"It's an equilateral triangle.\")\n",
    "    elif angle1 == 90 or angle2 == 90 or angle3 == 90:\n",
    "        print(\"It's a right-angled triangle.\")\n",
    "    elif angle1 == angle2 or angle2 == angle3 or angle1 == angle3:\n",
    "        print(\"It's an isosceles triangle.\")\n",
    "    else:\n",
    "        print(\"It's a scalene triangle.\")\n",
    "else:\n",
    "    print(\"These angles do not form a valid triangle.\")\n"
   ]
  },
  {
   "cell_type": "code",
   "execution_count": 32,
   "id": "a96a20fb",
   "metadata": {},
   "outputs": [
    {
     "name": "stdout",
     "output_type": "stream",
     "text": [
      "enter your weight56\n",
      "normal\n"
     ]
    }
   ],
   "source": [
    "#23. Develop a program to categorize a given person's BMI into underweight, normal, overweight, or obese using elif statements.\n",
    "a = float(input('enter your weight'))\n",
    "if a<=50:\n",
    "    print('underweight')\n",
    "elif a<=80:\n",
    "    print('normal')\n",
    "else:\n",
    "    print('overweight')\n",
    "    "
   ]
  },
  {
   "cell_type": "code",
   "execution_count": 33,
   "id": "cfa29b07",
   "metadata": {},
   "outputs": [
    {
     "name": "stdout",
     "output_type": "stream",
     "text": [
      "zero\n"
     ]
    }
   ],
   "source": [
    "#24. Create a program that determines whether a given number is positive, negative, or zero using elif statements.\n",
    "a = 0\n",
    "if a>0:\n",
    "    print('positive')\n",
    "elif a==0:\n",
    "    print('zero')\n",
    "else:\n",
    "    print('negative')"
   ]
  },
  {
   "cell_type": "code",
   "execution_count": 34,
   "id": "09575a29",
   "metadata": {},
   "outputs": [
    {
     "name": "stdout",
     "output_type": "stream",
     "text": [
      "lowercase\n"
     ]
    }
   ],
   "source": [
    "#25. Write a Python script to determine the type of a character (uppercase, lowercase, or special) using elif statements.\n",
    "a = 'r'\n",
    "if a==a.upper():\n",
    "    print('upper case')\n",
    "elif a==a.lower():\n",
    "    print('lowercase')\n",
    "else:\n",
    "    print('special')\n"
   ]
  },
  {
   "cell_type": "code",
   "execution_count": 38,
   "id": "a14780b2",
   "metadata": {},
   "outputs": [
    {
     "name": "stdout",
     "output_type": "stream",
     "text": [
      "Enter the purchase amount: $500\n",
      "Original Price: $500.00\n",
      "Discount Rate: 15%\n",
      "Discounted Price: $425.00\n"
     ]
    }
   ],
   "source": [
    "#26. Implement a program to calculate the discounted price based on different purchase amounts using elif statements.\n",
    "# Get the purchase amount from the user\n",
    "purchase_amount = float(input(\"Enter the purchase amount: $\"))\n",
    "\n",
    "# Define discount rates for different purchase amounts\n",
    "if purchase_amount < 50:\n",
    "    discount = 0\n",
    "elif purchase_amount < 100:\n",
    "    discount = 5\n",
    "elif purchase_amount < 200:\n",
    "    discount = 10\n",
    "else:\n",
    "    discount = 15\n",
    "\n",
    "# Calculate the discounted price\n",
    "discounted_price = purchase_amount - (purchase_amount * discount / 100)\n",
    "\n",
    "# Print the results\n",
    "print(f\"Original Price: ${purchase_amount:.2f}\")\n",
    "print(f\"Discount Rate: {discount}%\")\n",
    "print(f\"Discounted Price: ${discounted_price:.2f}\")\n"
   ]
  },
  {
   "cell_type": "code",
   "execution_count": 43,
   "id": "8c277a9a",
   "metadata": {},
   "outputs": [
    {
     "name": "stdout",
     "output_type": "stream",
     "text": [
      "bill for your 80 unit consumtion is 240\n"
     ]
    }
   ],
   "source": [
    "#27. Develop a program to calculate the electricity bill based on different consumption slabs using elif statements.\n",
    "fan = 10\n",
    "cooler = 20\n",
    "washing_machine =50\n",
    "rate_slab1 = 2\n",
    "rate_slab2 = 3\n",
    "rate_slab3 = 5\n",
    "\n",
    "unit = fan+cooler+washing_machine\n",
    "if unit<=50:\n",
    "    bill = unit*rate_slab1\n",
    "    print(f\"bill for your {unit} unit consumtion is {bill}\")\n",
    "elif unit<=80:\n",
    "    bill = unit*rate_slab2\n",
    "    print(f\"bill for your {unit} unit consumtion is {bill}\")\n",
    "elif unit<=100:\n",
    "    print(f\"bill for your {unit} unit consumtion is {bill}\")"
   ]
  },
  {
   "cell_type": "code",
   "execution_count": 47,
   "id": "7c0c71ef",
   "metadata": {},
   "outputs": [
    {
     "name": "stdout",
     "output_type": "stream",
     "text": [
      "Enter the first angle: 90\n",
      "Enter the second angle: 90\n",
      "Enter the third angle: 90\n",
      "Enter the fourth angle: 90\n",
      "Enter the length of the first side: 5\n",
      "Enter the length of the second side: 5\n",
      "Enter the length of the third side: 5\n",
      "Enter the length of the fourth side: 5\n",
      "It's a square\n"
     ]
    }
   ],
   "source": [
    "#28. Create a program to determine the type of quadrilateral based on its angles and sides using elif statements.\n",
    "# Input the angles and sides of the quadrilateral\n",
    "angle1 = float(input(\"Enter the first angle: \"))\n",
    "angle2 = float(input(\"Enter the second angle: \"))\n",
    "angle3 = float(input(\"Enter the third angle: \"))\n",
    "angle4 = float(input(\"Enter the fourth angle: \"))\n",
    "\n",
    "side1 = float(input(\"Enter the length of the first side: \"))\n",
    "side2 = float(input(\"Enter the length of the second side: \"))\n",
    "side3 = float(input(\"Enter the length of the third side: \"))\n",
    "side4 = float(input(\"Enter the length of the fourth side: \"))\n",
    "\n",
    "# Calculate the sum of angles and sides\n",
    "sum_of_angles = angle1 + angle2 + angle3 + angle4\n",
    "sum_of_sides = side1 + side2 + side3 + side4\n",
    "\n",
    "# Determine the type of quadrilateral\n",
    "if sum_of_angles == 360 and side1 == side2 == side3 == side4:\n",
    "    print(\"It's a square\")\n",
    "elif sum_of_angles == 360 and side1 == side3 and side2 == side4:\n",
    "    print(\"It's a rectangle\")\n",
    "elif sum_of_angles == 360 and side1 == side2 == side3 != side4:\n",
    "    print(\"It's a rhombus\")\n",
    "elif sum_of_angles == 360 and side1 == side2 == side3 == side4:\n",
    "    print(\"It's a parallelogram\")\n",
    "elif sum_of_angles == 360:\n",
    "    print(\"It's a general quadrilateral\")\n",
    "else:\n",
    "    print(\"It's not a valid quadrilateral\")\n"
   ]
  },
  {
   "cell_type": "code",
   "execution_count": 48,
   "id": "c8553bb2",
   "metadata": {},
   "outputs": [
    {
     "name": "stdout",
     "output_type": "stream",
     "text": [
      "enter your month :march\n",
      "summer season\n"
     ]
    }
   ],
   "source": [
    "#29. Write a Python script to determine the season based on a user-provided month using elif statements.\n",
    "a = ['november','december','january','feburary']\n",
    "b = ['march','april','may','june']\n",
    "c = ['july','august','september','october']\n",
    "d = input('enter your month :')\n",
    "if d in a:\n",
    "    print('winter season')\n",
    "elif d in b:\n",
    "    print('summer season')\n",
    "else:\n",
    "    print('monsoon season')"
   ]
  },
  {
   "cell_type": "code",
   "execution_count": 60,
   "id": "85354c54",
   "metadata": {},
   "outputs": [
    {
     "name": "stdout",
     "output_type": "stream",
     "text": [
      "enter year :1506\n",
      "enter your month: january\n",
      "your 1506 year is a common year\n",
      "your january has 31 days\n"
     ]
    }
   ],
   "source": [
    "#30. Implement a program to determine the type of a year (leap or common) and month (30 or 31 days) using elif statements\n",
    "a = int(input('enter year :'))\n",
    "b = input('enter your month: ')\n",
    "days30 = ['april', 'june', 'september','november']\n",
    "days31 = ['january','march','may','july','august','october','december']\n",
    "if a%4==0:\n",
    "    print(f'your {a} year is a leap year')\n",
    "elif a%4!=0:\n",
    "    print(f'your {a} year is a common year')\n",
    "\n",
    "if b in days30:\n",
    "    print(f'your {b} month has 30 days')\n",
    "elif b in days31:\n",
    "    print(f'your {b} month has 31 days')\n",
    "    "
   ]
  },
  {
   "cell_type": "code",
   "execution_count": 1,
   "id": "6e5b0a04",
   "metadata": {},
   "outputs": [
    {
     "name": "stdout",
     "output_type": "stream",
     "text": [
      "zero\n"
     ]
    }
   ],
   "source": [
    "#Basic Level:\n",
    "    \n",
    "#1. Write a Python program that checks if a given number is positive, negative, or zero.\n",
    "a = 0\n",
    "if a>0:\n",
    "    print('positive')\n",
    "elif a==0:\n",
    "    print('zero')\n",
    "else:\n",
    "    print('negative')"
   ]
  },
  {
   "cell_type": "code",
   "execution_count": 2,
   "id": "842b0e56",
   "metadata": {},
   "outputs": [
    {
     "name": "stdout",
     "output_type": "stream",
     "text": [
      "enter your age15\n",
      "you are a kid not eligible\n"
     ]
    }
   ],
   "source": [
    "#2. Create a program to determine if a person is eligible to vote based on their age.\n",
    "a = int(input('enter your age'))\n",
    "if a>=18:\n",
    "    print('eligible')\n",
    "else:\n",
    "    print('you are a kid not eligible')"
   ]
  },
  {
   "cell_type": "code",
   "execution_count": 3,
   "id": "6095af37",
   "metadata": {},
   "outputs": [
    {
     "name": "stdout",
     "output_type": "stream",
     "text": [
      "b is max\n"
     ]
    }
   ],
   "source": [
    "#3. Write a program to find the maximum of two given numbers using conditional statements.\n",
    "a = 10\n",
    "b = 15\n",
    "if a>b:\n",
    "    print('a is max')\n",
    "else:\n",
    "    print('b is max')"
   ]
  },
  {
   "cell_type": "code",
   "execution_count": 4,
   "id": "d58a7f26",
   "metadata": {},
   "outputs": [
    {
     "name": "stdout",
     "output_type": "stream",
     "text": [
      "a\n"
     ]
    }
   ],
   "source": [
    "#4. Develop a program that calculates the grade of a student based on their exam score.\n",
    "a = 85\n",
    "if a<=33:\n",
    "    print('f')\n",
    "elif a<=60:\n",
    "    print('c')\n",
    "elif a<=80:\n",
    "    print('b')\n",
    "elif a<=100:\n",
    "    print('a')"
   ]
  },
  {
   "cell_type": "code",
   "execution_count": 5,
   "id": "892838aa",
   "metadata": {},
   "outputs": [
    {
     "name": "stdout",
     "output_type": "stream",
     "text": [
      "leap year\n"
     ]
    }
   ],
   "source": [
    "#5. Create a program that checks if a year is a leap year or not\n",
    "a = 2000\n",
    "if a%4==0:\n",
    "    print('leap year')\n",
    "else :\n",
    "    print('common year')"
   ]
  },
  {
   "cell_type": "code",
   "execution_count": 6,
   "id": "a8bda8af",
   "metadata": {},
   "outputs": [
    {
     "name": "stdout",
     "output_type": "stream",
     "text": [
      "eqvilateral\n"
     ]
    }
   ],
   "source": [
    "#6. Write a program to classify a triangle based on its sides' lengths.\n",
    "base = 10\n",
    "height = 10\n",
    "hypotenus = 10\n",
    "if base==height==hypotenus:\n",
    "    print('eqvilateral')\n",
    "elif hypotenus==height!=base:\n",
    "    print('isosceles')\n",
    "elif base!=height!=hypotenus:\n",
    "    print('scalene')"
   ]
  },
  {
   "cell_type": "code",
   "execution_count": 7,
   "id": "2150c6ae",
   "metadata": {},
   "outputs": [
    {
     "name": "stdout",
     "output_type": "stream",
     "text": [
      "largest number is num3  15\n"
     ]
    },
    {
     "data": {
      "text/plain": [
       "15"
      ]
     },
     "execution_count": 7,
     "metadata": {},
     "output_type": "execute_result"
    }
   ],
   "source": [
    "#7. Build a program that determines the largest of three given numbers.\n",
    "num1 = 5\n",
    "num2 = 10\n",
    "num3 = 15\n",
    "# Compare the numbers to find the largest\n",
    "if num1 >= num2:\n",
    "    if num1 >= num3:\n",
    "        largest = num1\n",
    "        print('largest number is num1 ',largest)\n",
    "    else:\n",
    "        largest = num3\n",
    "        print('largest number is num3 ',largest)\n",
    "else:\n",
    "    if num2 >= num3:\n",
    "        largest = num2\n",
    "        print('largest number is num2 ',largest)\n",
    "    else:\n",
    "        largest = num3\n",
    "        print('largest number is num3 ',largest)\n",
    "largest\n"
   ]
  },
  {
   "cell_type": "code",
   "execution_count": 8,
   "id": "b0b19066",
   "metadata": {},
   "outputs": [
    {
     "name": "stdout",
     "output_type": "stream",
     "text": [
      "vowel\n"
     ]
    }
   ],
   "source": [
    "#8. Develop a program that checks whether a character is a vowel or a consonant.\n",
    "a = 'i'\n",
    "b = 'aeiou'\n",
    "if a in b:\n",
    "    print('vowel')\n",
    "else:\n",
    "    print('not vowel')"
   ]
  },
  {
   "cell_type": "code",
   "execution_count": 9,
   "id": "29b58cb7",
   "metadata": {},
   "outputs": [
    {
     "name": "stdout",
     "output_type": "stream",
     "text": [
      "Enter the purchase amount: $500\n",
      "Original Price: $500.00\n",
      "Discount Rate: 15%\n",
      "Discounted Price: $425.00\n"
     ]
    }
   ],
   "source": [
    "#9. Create a program to calculate the total cost of a shopping cart based on discounts.\n",
    "purchase_amount = float(input(\"Enter the purchase amount: $\"))\n",
    "\n",
    "# Define discount rates for different purchase amounts\n",
    "if purchase_amount < 50:\n",
    "    discount = 0\n",
    "elif purchase_amount < 100:\n",
    "    discount = 5\n",
    "elif purchase_amount < 200:\n",
    "    discount = 10\n",
    "else:\n",
    "    discount = 15\n",
    "\n",
    "# Calculate the discounted price\n",
    "discounted_price = purchase_amount - (purchase_amount * discount / 100)\n",
    "\n",
    "# Print the results\n",
    "print(f\"Original Price: ${purchase_amount:.2f}\")\n",
    "print(f\"Discount Rate: {discount}%\")\n",
    "print(f\"Discounted Price: ${discounted_price:.2f}\")\n",
    "\n"
   ]
  },
  {
   "cell_type": "code",
   "execution_count": 10,
   "id": "5d051803",
   "metadata": {},
   "outputs": [
    {
     "name": "stdout",
     "output_type": "stream",
     "text": [
      "even\n"
     ]
    }
   ],
   "source": [
    "#10. Write a program that checks if a given number is even or odd\n",
    "a = 8\n",
    "if a%2==0:\n",
    "    print('even')\n",
    "else:\n",
    "    print('odd')"
   ]
  },
  {
   "cell_type": "code",
   "execution_count": 11,
   "id": "e492d6c2",
   "metadata": {},
   "outputs": [
    {
     "name": "stdout",
     "output_type": "stream",
     "text": [
      "2\n",
      "5\n"
     ]
    }
   ],
   "source": [
    "#Intermediate Level: \n",
    "\n",
    "#11. Write a program that calculates the roots of a quadratic equation .\n",
    "for x in range(100):\n",
    "    a = x*x - 7*x + 10\n",
    "    if a==0:\n",
    "        print(x)\n"
   ]
  },
  {
   "cell_type": "code",
   "execution_count": 12,
   "id": "8932d96a",
   "metadata": {},
   "outputs": [
    {
     "name": "stdout",
     "output_type": "stream",
     "text": [
      "Enter a number (1-7) to determine the day of the week: 1\n",
      "The day of the week for 1 is Monday.\n"
     ]
    }
   ],
   "source": [
    "#12. Create a program that determines the day of the week based on the day number (1-7).\n",
    "days_of_week = {\n",
    "    1: \"Monday\",\n",
    "    2: \"Tuesday\",\n",
    "    3: \"Wednesday\",\n",
    "    4: \"Thursday\",\n",
    "    5: \"Friday\",\n",
    "    6: \"Saturday\",\n",
    "    7: \"Sunday\"\n",
    "}\n",
    "\n",
    "# Ask the user for a number input\n",
    "user_input = int(input(\"Enter a number (1-7) to determine the day of the week: \"))\n",
    "\n",
    "# Check if the input is within the valid range\n",
    "if 1 <= user_input <= 7:\n",
    "    # Look up the corresponding day in the dictionary\n",
    "    day = days_of_week[user_input]\n",
    "    print(f\"The day of the week for {user_input} is {day}.\")\n",
    "else:\n",
    "    print(\"Invalid input. Please enter a number between 1 and 7.\")"
   ]
  },
  {
   "cell_type": "code",
   "execution_count": 20,
   "id": "5f433666",
   "metadata": {},
   "outputs": [
    {
     "data": {
      "text/plain": [
       "120"
      ]
     },
     "execution_count": 20,
     "metadata": {},
     "output_type": "execute_result"
    }
   ],
   "source": [
    "#13. Develop a program that calculates the factorial of a given number using recursion.\n",
    "def factorial(n):\n",
    "    if n == 0:\n",
    "        return 1  # Base case: 0! is defined as 1\n",
    "    else:\n",
    "        return n * factorial(n - 1)\n",
    "    return b\n",
    "factorial(5)\n"
   ]
  },
  {
   "cell_type": "code",
   "execution_count": 22,
   "id": "936c46e1",
   "metadata": {},
   "outputs": [
    {
     "data": {
      "text/plain": [
       "7"
      ]
     },
     "execution_count": 22,
     "metadata": {},
     "output_type": "execute_result"
    }
   ],
   "source": [
    "#14. Write a program to find the largest among three numbers without using the `max()` function.\n",
    "def find_largest_number(a, b, c):\n",
    "    if a >= b and a >= c:\n",
    "        largest = a\n",
    "    elif b >= a and b >= c:\n",
    "        largest = b\n",
    "    else:\n",
    "        largest = c\n",
    "    return largest\n",
    "find_largest_number(5,6,7)"
   ]
  },
  {
   "cell_type": "code",
   "execution_count": 4,
   "id": "8bd85c87",
   "metadata": {},
   "outputs": [
    {
     "name": "stdout",
     "output_type": "stream",
     "text": [
      "insert your card\n",
      "enter your pin :1234\n",
      "{'account_number': '123456', 'balance': 1000.0}\n",
      "display balance:                            deposit funds:                             withdraw fundsdeposit funds\n",
      "enter funds to deposit50\n",
      "$50.00 has been deposited into your account.\n",
      "Your balance is $1050.00\n",
      "None\n"
     ]
    }
   ],
   "source": [
    "#15. Create a program that simulates a basic ATM transaction menu.\n",
    "# Sample account data stored in a dictionary\n",
    "\n",
    "account_data = {\n",
    "    \"account_number\": \"123456\",\n",
    "    \"balance\": 1000.0\n",
    "}\n",
    "\n",
    "def display_balance():\n",
    "    print(f\"Your balance is ${account_data['balance']:.2f}\")\n",
    "\n",
    "def deposit_funds(amount):\n",
    "    account_data['balance'] += amount\n",
    "    print(f\"${amount:.2f} has been deposited into your account.\")\n",
    "    display_balance()\n",
    "\n",
    "def withdraw_funds(amount):\n",
    "    if account_data['balance'] >= amount:\n",
    "        ['balance'] -= amount\n",
    "        print(f\"${amount:.2f} has been withdrawn from your account.\")\n",
    "        display_balance()account_data\n",
    "    else:\n",
    "        print(\"Insufficient funds. Withdrawal not possible.\")\n",
    "print('insert your card')\n",
    "a = int(input('enter your pin :'))\n",
    "if a==1234:\n",
    "    print(account_data)\n",
    "    b = input('display balance:                            deposit funds:                             withdraw funds')\n",
    "    if b=='display balance':\n",
    "        print(display_balance)\n",
    "    elif b=='deposit funds':\n",
    "        c = int(input('enter funds to deposit'))\n",
    "        print(deposit_funds(c))\n",
    "    elif b=='withdraw funds':\n",
    "        d = int(input('enter funds to withdraw'))\n",
    "        print(withdraw_funds(d))    "
   ]
  },
  {
   "cell_type": "code",
   "execution_count": 5,
   "id": "bb87fdd2",
   "metadata": {},
   "outputs": [
    {
     "name": "stdout",
     "output_type": "stream",
     "text": [
      "palindrome\n"
     ]
    }
   ],
   "source": [
    "#16. Build a program that checks if a given string is a palindrome or not.\n",
    "a = 'radar'\n",
    "if a[:]==a[::-1]:\n",
    "    print('palindrome')\n",
    "else:\n",
    "    print('not palindrome')\n"
   ]
  },
  {
   "cell_type": "code",
   "execution_count": 9,
   "id": "536fce5f",
   "metadata": {},
   "outputs": [
    {
     "data": {
      "text/plain": [
       "5.0"
      ]
     },
     "execution_count": 9,
     "metadata": {},
     "output_type": "execute_result"
    }
   ],
   "source": [
    "#17. Write a program that calculates the average of a list of numbers, excluding the smallest and largest values.\n",
    "a = [1,2,3,4,5,6,7,8,9]\n",
    "a.pop(0)\n",
    "a.pop(-1)\n",
    "sum = 0\n",
    "for i in a:\n",
    "    sum+=i\n",
    "average = sum/len(a)\n",
    "average"
   ]
  },
  {
   "cell_type": "code",
   "execution_count": 11,
   "id": "b4a04e5f",
   "metadata": {},
   "outputs": [
    {
     "data": {
      "text/plain": [
       "86.0"
      ]
     },
     "execution_count": 11,
     "metadata": {},
     "output_type": "execute_result"
    }
   ],
   "source": [
    "#18. Develop a program that converts a given temperature from Celsius to Fahrenheit.\n",
    "celsius = 30\n",
    "Fahernheight = celsius*(9/5)+32\n",
    "Fahernheight"
   ]
  },
  {
   "cell_type": "code",
   "execution_count": 12,
   "id": "2e1ad90e",
   "metadata": {},
   "outputs": [
    {
     "name": "stdout",
     "output_type": "stream",
     "text": [
      "enter your first number :5\n",
      "enter your second number :9\n",
      " +  -  x  /x\n",
      "45.0\n"
     ]
    }
   ],
   "source": [
    "#19. Create a program that simulates a basic calculator for addition, subtraction, multiplication, and division.\n",
    "a = float(input('enter your first number :'))\n",
    "b = float(input('enter your second number :'))\n",
    "c = input(' +  -  x  /  :   ')\n",
    "if c == '+':\n",
    "    print(a+b)\n",
    "elif c =='-':\n",
    "    print(a-b)\n",
    "elif c=='x':\n",
    "    print(a*b)\n",
    "elif c=='/':\n",
    "    print(a/b)\n",
    "\n",
    "\n"
   ]
  },
  {
   "cell_type": "code",
   "execution_count": 5,
   "id": "a551e0b6",
   "metadata": {},
   "outputs": [
    {
     "name": "stdout",
     "output_type": "stream",
     "text": [
      "Roots of the cubic equation: (2.3333333333333335, 1.6666666666666667, 2.0)\n"
     ]
    }
   ],
   "source": [
    "#20. Write a program that determines the roots of a cubic equation using the Cardano formula.\n",
    "import math\n",
    "\n",
    "def cubic_roots(a, b, c, d):\n",
    "    if a == 0:\n",
    "        raise ValueError(\"Coefficient 'a' cannot be zero for a cubic equation\")\n",
    "\n",
    "    p = (3 * a * c - b**2) / (3 * a**2)\n",
    "    q = (2 * b**3 - 9 * a * b * c + 27 * a**2 * d) / (27 * a**3)\n",
    "    discriminant = q**2 / 4 + p**3 / 27\n",
    "\n",
    "    if discriminant > 0:\n",
    "        root1 = (-q / 2 + math.sqrt(discriminant))**(1/3)\n",
    "        root2 = (-q / 2 - math.sqrt(discriminant))**(1/3)\n",
    "        real_part = -b / (3 * a)\n",
    "        root1 = root1 + root2 + real_part\n",
    "        root2 = complex(-(root1 + real_part) / 2, (root1 - real_part) * math.sqrt(3) / 2)\n",
    "        root3 = complex(-(root1 + real_part) / 2, -(root1 - real_part) * math.sqrt(3) / 2)\n",
    "    elif discriminant == 0:\n",
    "        if q >= 0:\n",
    "            root1 = (-(q / 2))**(1/3)\n",
    "        else:\n",
    "            root1 = (-(-(q / 2))**(1/3))\n",
    "        real_part = -b / (3 * a)\n",
    "        root1 = 2 * root1 + real_part\n",
    "        root2 = complex(-(root1 + real_part) / 2, 0)\n",
    "        root3 = complex(-(root1 + real_part) / 2, 0)\n",
    "    else:\n",
    "        alpha = (-q / 2)**(1/3)\n",
    "        beta = math.sqrt(-discriminant)\n",
    "        theta = math.atan2(beta, -alpha) / 3\n",
    "        r = (alpha**2 + beta**2)**(1/2)\n",
    "        real_part = -b / (3 * a)\n",
    "        root1 = 2 * r * math.cos(theta) + real_part\n",
    "        root2 = 2 * r * math.cos(theta + (2 * math.pi / 3)) + real_part\n",
    "        root3 = 2 * r * math.cos(theta - (2 * math.pi / 3)) + real_part\n",
    "\n",
    "    return root1, root2, root3\n",
    "\n",
    "# Example usage:\n",
    "a = 1\n",
    "b = -6\n",
    "c = 11\n",
    "d = -6\n",
    "\n",
    "roots = cubic_roots(a, b, c, d)\n",
    "print(\"Roots of the cubic equation:\", roots)\n",
    "\n",
    "        "
   ]
  },
  {
   "cell_type": "code",
   "execution_count": 8,
   "id": "7c6bf250",
   "metadata": {},
   "outputs": [
    {
     "name": "stdout",
     "output_type": "stream",
     "text": [
      "enter your income :500000\n",
      "your tax for income500000 is 25000.0\n"
     ]
    }
   ],
   "source": [
    "#Advanced Level:\n",
    "\n",
    "#21. Create a program that calculates the income tax based on the user's income and tax brackets.\n",
    "a = int(input('enter your income :'))\n",
    "\n",
    "if a<=300000:\n",
    "    print(\"you dont have to pay tax\")\n",
    "elif  300000 <=a and a<=  600000:\n",
    "    tax = (a/100)*5\n",
    "    print(f'your tax for income {a} is {tax}') #(5% of Rs 6,00,000 less Rs 3,00,000)\t15,000\n",
    "elif  600000 <a and a<=  900000:\n",
    "    tax = (a/100)*10\n",
    "    print(f'your tax for income {a} is {tax}') #(10% of Rs 9,00,000 less Rs 6,00,000)\t30,000\n",
    "elif 900000 <a and a<=  1200000:\n",
    "    tax = (a/100)*15 \n",
    "    print(f'your tax for income {a} is {tax}') #(15% of Rs 12,00,000 less Rs 9,00,000)\t45,000\n",
    "elif  1200000 < a and a<= 1500000:\n",
    "    tax = (a/100)*20\n",
    "    print(f'your tax for income {a} is {tax}')   #(20% of Rs 15,00,000 less Rs 12,00,000)\t60,000\n",
    "else:\n",
    "    tax = (a/100)*30\n",
    "    print(f'your tax for income {a} is {tax}') #30% (30% of Rs 20,42,000 less Rs 15,00,000)\t1,62,600"
   ]
  },
  {
   "cell_type": "code",
   "execution_count": 12,
   "id": "0d57f323",
   "metadata": {},
   "outputs": [
    {
     "name": "stdout",
     "output_type": "stream",
     "text": [
      "Let's play Rock-Paper-Scissors!\n",
      "Choose Rock, Paper, or Scissors: paper\n",
      "You chose paper.\n",
      "Computer chose rock.\n",
      "You win!\n",
      "Play again? (yes/no): no\n",
      "Thanks for playing!\n"
     ]
    }
   ],
   "source": [
    "#22. Write a program that simulates a rock-paper-scissors game against the computer.\n",
    "import random\n",
    "\n",
    "def get_user_choice():\n",
    "    while True:\n",
    "        user_choice = input(\"Choose Rock, Paper, or Scissors: \").strip().lower()\n",
    "        if user_choice in [\"rock\", \"paper\", \"scissors\"]:\n",
    "            return user_choice\n",
    "        else:\n",
    "            print(\"Invalid choice. Please choose Rock, Paper, or Scissors.\")\n",
    "\n",
    "def get_computer_choice():\n",
    "    choices = [\"rock\", \"paper\", \"scissors\"]\n",
    "    return random.choice(choices)\n",
    "\n",
    "def determine_winner(user_choice, computer_choice):\n",
    "    if user_choice == computer_choice:\n",
    "        return \"It's a tie!\"\n",
    "    elif (user_choice == \"rock\" and computer_choice == \"scissors\") or \\\n",
    "         (user_choice == \"scissors\" and computer_choice == \"paper\") or \\\n",
    "         (user_choice == \"paper\" and computer_choice == \"rock\"):\n",
    "        return \"You win!\"\n",
    "    else:\n",
    "        return \"Computer wins!\"\n",
    "\n",
    "def a():\n",
    "    print(\"Let's play Rock-Paper-Scissors!\")\n",
    "    while True:\n",
    "        user_choice = get_user_choice()\n",
    "        computer_choice = get_computer_choice()\n",
    "\n",
    "        print(f\"You chose {user_choice}.\")\n",
    "        print(f\"Computer chose {computer_choice}.\")\n",
    "\n",
    "        result = determine_winner(user_choice, computer_choice)\n",
    "        print(result)\n",
    "\n",
    "        play_again = input(\"Play again? (yes/no): \").strip().lower()\n",
    "        if play_again != \"yes\":\n",
    "            break\n",
    "\n",
    "    print(\"Thanks for playing!\")\n",
    "\n",
    "a()\n"
   ]
  },
  {
   "cell_type": "code",
   "execution_count": 14,
   "id": "cdd59573",
   "metadata": {},
   "outputs": [
    {
     "name": "stdout",
     "output_type": "stream",
     "text": [
      "Welcome to the Text-Based Adventure Game!\n",
      "You find yourself in a mysterious forest.\n",
      "\n",
      "What do you want to do?\n",
      "1. Go deeper into the forest\n",
      "2. Explore the nearby cave\n",
      "3. Sit by the campfire\n",
      "4. Quit the game\n",
      "Enter your choice (1/2/3/4): 1\n",
      "\n",
      "You venture deeper into the forest.\n",
      "You discover a hidden treasure chest!\n",
      "Congratulations, you're rich!\n",
      "\n",
      "What do you want to do?\n",
      "1. Go deeper into the forest\n",
      "2. Explore the nearby cave\n",
      "3. Sit by the campfire\n",
      "4. Quit the game\n",
      "Enter your choice (1/2/3/4): 4\n",
      "\n",
      "Thanks for playing! Goodbye!\n"
     ]
    }
   ],
   "source": [
    "#24. Create a program that implements a simple text-based adventure game with branching scenarios.\n",
    "def main():\n",
    "    print(\"Welcome to the Text-Based Adventure Game!\")\n",
    "    print(\"You find yourself in a mysterious forest.\")\n",
    "    \n",
    "    while True:\n",
    "        print(\"\\nWhat do you want to do?\")\n",
    "        print(\"1. Go deeper into the forest\")\n",
    "        print(\"2. Explore the nearby cave\")\n",
    "        print(\"3. Sit by the campfire\")\n",
    "        print(\"4. Quit the game\")\n",
    "        \n",
    "        choice = input(\"Enter your choice (1/2/3/4): \").strip()\n",
    "        \n",
    "        if choice == \"1\":\n",
    "            print(\"\\nYou venture deeper into the forest.\")\n",
    "            print(\"You discover a hidden treasure chest!\")\n",
    "            print(\"Congratulations, you're rich!\")\n",
    "        elif choice == \"2\":\n",
    "            print(\"\\nYou enter the dark cave.\")\n",
    "            print(\"Inside, you find a sleeping dragon.\")\n",
    "            print(\"You try to sneak past it but wake it up!\")\n",
    "            print(\"The dragon eats you. Game over!\")\n",
    "        elif choice == \"3\":\n",
    "            print(\"\\nYou sit by the campfire and relax.\")\n",
    "            print(\"It's a peaceful night in the forest.\")\n",
    "            print(\"You enjoy the calm and live happily ever after.\")\n",
    "        elif choice == \"4\":\n",
    "            print(\"\\nThanks for playing! Goodbye!\")\n",
    "            break\n",
    "        else:\n",
    "            print(\"\\nInvalid choice. Please enter 1, 2, 3, or 4.\")\n",
    "\n",
    "if __name__ == \"__main__\":\n",
    "    main()\n"
   ]
  },
  {
   "cell_type": "code",
   "execution_count": 17,
   "id": "12a8cc7b",
   "metadata": {},
   "outputs": [
    {
     "name": "stdout",
     "output_type": "stream",
     "text": [
      "This program solves a linear equation in the form ax + b = 0.\n",
      "Enter the value of 'a': 5\n",
      "Enter the value of 'b': 6\n",
      "Result: x = -1.2\n"
     ]
    }
   ],
   "source": [
    "#25. Build a program that solves a linear equation  for x, considering different cases.\\\n",
    "def solve_linear_equation(a, b):\n",
    "    if a == 0:\n",
    "        if b == 0:\n",
    "            return \"Infinite solutions (any value of x)\"\n",
    "        else:\n",
    "            return \"No solution (contradiction)\"\n",
    "    else:\n",
    "        x = -b / a\n",
    "        return x\n",
    "\n",
    "def main():\n",
    "    print(\"This program solves a linear equation in the form ax + b = 0.\")\n",
    "    a = float(input(\"Enter the value of 'a': \"))\n",
    "    b = float(input(\"Enter the value of 'b': \"))\n",
    "    \n",
    "    solution = solve_linear_equation(a, b)\n",
    "    \n",
    "    if isinstance(solution, str):\n",
    "        print(\"Result:\", solution)\n",
    "    else:\n",
    "        print(f\"Result: x = {solution}\")\n",
    "\n",
    "if __name__ == \"__main__\":\n",
    "    main()\n"
   ]
  },
  {
   "cell_type": "code",
   "execution_count": 4,
   "id": "ac4c4d3a",
   "metadata": {},
   "outputs": [
    {
     "name": "stdout",
     "output_type": "stream",
     "text": [
      "Welcome to the Quiz Game!\n",
      "Question 1: What is the capital of France?\n",
      "1. 1. Berlin\n",
      "2. 2. London\n",
      "3. 3. Paris\n",
      "4. 4. Madrid\n",
      "Enter your choice (1-4): 3\n",
      "Correct!\n",
      "\n",
      "Question 2: What is 2 + 2?\n",
      "1. 1. 3\n",
      "2. 2. 4\n",
      "3. 3. 5\n",
      "4. 4. 6\n",
      "Enter your choice (1-4): 2\n",
      "Correct!\n",
      "\n",
      "Question 3: Which planet is known as the Red Planet?\n",
      "1. 1. Earth\n",
      "2. 2. Jupiter\n",
      "3. 3. Mars\n",
      "4. 4. Venus\n",
      "Enter your choice (1-4): 3\n",
      "Correct!\n",
      "\n",
      "You scored 3 out of 3\n"
     ]
    }
   ],
   "source": [
    "#26. Write a program that simulates a basic quiz game with multiple-choice questions and scoring.\n",
    "class Question:\n",
    "    def __init__(self, text, choices, correct_answer):\n",
    "        self.text = text\n",
    "        self.choices = choices\n",
    "        self.correct_answer = correct_answer\n",
    "\n",
    "    def is_correct(self, choice):\n",
    "        return choice == self.correct_answer\n",
    "\n",
    "class Quiz:\n",
    "    def __init__(self):\n",
    "        self.questions = []\n",
    "        self.score = 0\n",
    "\n",
    "    def add_question(self, question):\n",
    "        self.questions.append(question)\n",
    "\n",
    "    def start_quiz(self):\n",
    "        for i, question in enumerate(self.questions, 1):\n",
    "            print(f\"Question {i}: {question.text}\")\n",
    "            for j, choice in enumerate(question.choices, 1):\n",
    "                print(f\"{j}. {choice}\")\n",
    "            \n",
    "            user_choice = int(input(\"Enter your choice (1-4): \"))\n",
    "            if 1 <= user_choice <= 4:\n",
    "                if question.is_correct(user_choice):\n",
    "                    print(\"Correct!\\n\")\n",
    "                    self.score += 1\n",
    "                else:\n",
    "                    print(f\"Wrong! The correct answer was {question.correct_answer}\\n\")\n",
    "            else:\n",
    "                print(\"Invalid choice. Skipping this question.\\n\")\n",
    "\n",
    "        print(f\"You scored {self.score} out of {len(self.questions)}\")\n",
    "\n",
    "if __name__ == \"__main__\":\n",
    "    q1 = Question(\"What is the capital of France?\", [\"1. Berlin\", \"2. London\", \"3. Paris\", \"4. Madrid\"], 3)\n",
    "    q2 = Question(\"What is 2 + 2?\",[\"1. 3\", \"2. 4\", \"3. 5\", \"4. 6\"],  2)\n",
    "    q3 = Question(\"Which planet is known as the Red Planet?\", [\"1. Earth\", \"2. Jupiter\", \"3. Mars\", \"4. Venus\"], 3)\n",
    "\n",
    "    quiz = Quiz()\n",
    "    quiz.add_question(q1)\n",
    "    quiz.add_question(q2)\n",
    "    quiz.add_question(q3)\n",
    "\n",
    "    print(\"Welcome to the Quiz Game!\")\n",
    "    quiz.start_quiz()"
   ]
  },
  {
   "cell_type": "code",
   "execution_count": 7,
   "id": "5cea7eac",
   "metadata": {},
   "outputs": [
    {
     "name": "stdout",
     "output_type": "stream",
     "text": [
      "enter your year2003\n"
     ]
    },
    {
     "data": {
      "text/plain": [
       "'prime year'"
      ]
     },
     "execution_count": 7,
     "metadata": {},
     "output_type": "execute_result"
    }
   ],
   "source": [
    "#27. Develop a program that determines whether a given year is a prime number or not.\n",
    "a = int(input('enter your year'))\n",
    "def is_prime(num):\n",
    "    if num <= 1:\n",
    "        return False\n",
    "    for i in range(2, int(num**0.5) + 1):\n",
    "        if num % i == 0:\n",
    "            return 'not a prime year'\n",
    "    return 'prime year'\n",
    "is_prime(a)"
   ]
  },
  {
   "cell_type": "code",
   "execution_count": 9,
   "id": "8ff925fb",
   "metadata": {},
   "outputs": [
    {
     "name": "stdout",
     "output_type": "stream",
     "text": [
      "Sorted in ascending order: 5, 6, 8\n"
     ]
    }
   ],
   "source": [
    "#28. Create a program that sorts three numbers in ascending order using conditional statements.\n",
    "# Input three numbers\n",
    "num1 = 5\n",
    "num2 = 8\n",
    "num3 = 6\n",
    "\n",
    "# Find the minimum number\n",
    "min_num = min(num1, num2, num3)\n",
    "\n",
    "# Find the maximum number\n",
    "max_num = max(num1, num2, num3)\n",
    "\n",
    "# Calculate the middle number\n",
    "middle_num = (num1 + num2 + num3) - (min_num + max_num)\n",
    "\n",
    "# Print the numbers in ascending order\n",
    "print(f\"Sorted in ascending order: {min_num}, {middle_num}, {max_num}\")"
   ]
  },
  {
   "cell_type": "code",
   "execution_count": 7,
   "id": "e29b6077",
   "metadata": {},
   "outputs": [
    {
     "name": "stdout",
     "output_type": "stream",
     "text": [
      "Root 1: -1.601071\n",
      "Root 2: -1.601071\n",
      "Root 3: 0.783849\n",
      "Root 4: 0.783849\n"
     ]
    }
   ],
   "source": [
    "#29. Build a program that determines the roots of a quartic equation using numerical methods.\n",
    "import sympy as sp\n",
    "\n",
    "# Define the symbolic variables\n",
    "x = sp.symbols('x')\n",
    "\n",
    "# Define the quartic equation (example: x^4 - 3x^3 + 2x^2 + 10x - 8 = 0)\n",
    "equation = x**4 - 3*x**3 + 2*x**2 + 10*x - 8\n",
    "\n",
    "# Compute the derivative of the equation\n",
    "derivative = sp.diff(equation, x)\n",
    "\n",
    "# Define the initial guess for the roots\n",
    "initial_guesses = [-2, -1, 1, 2]\n",
    "\n",
    "# Set the tolerance and maximum iterations for the Newton-Raphson method\n",
    "tolerance = 1e-6\n",
    "max_iterations = 100\n",
    "\n",
    "# Find the roots using the Newton-Raphson method\n",
    "roots = []\n",
    "for initial_guess in initial_guesses:\n",
    "    x0 = initial_guess\n",
    "    for _ in range(max_iterations):\n",
    "        x1 = x0 - equation.subs(x, x0) / derivative.subs(x, x0)\n",
    "        if abs(x1 - x0) < tolerance:\n",
    "            roots.append(x1)\n",
    "            break\n",
    "        x0 = x1\n",
    "\n",
    "# Print the roots\n",
    "for i, root in enumerate(roots):\n",
    "    print(f\"Root {i+1}: {root:.6f}\")"
   ]
  },
  {
   "cell_type": "code",
   "execution_count": 16,
   "id": "fed51b66",
   "metadata": {},
   "outputs": [
    {
     "name": "stdout",
     "output_type": "stream",
     "text": [
      "enter your body weight :64\n",
      "enter your height in meters :1.68\n",
      "your BMI is 18.5 to 24.9, it falls within the Healthy Weight range. please maintain your healthy diet\n"
     ]
    }
   ],
   "source": [
    "#30. Write a program that calculates the BMI (Body Mass Index) and provides health recommendations based on the user's input\n",
    "a = float(input('enter your body weight :'))\n",
    "b = float(input('enter your height in meters :'))\n",
    "bmi = a/(b*b)\n",
    "if bmi<18.5:\n",
    "    print(f'{bmi}your BMI is less than 18.5, it falls within the underweight range. please start eating extra calories')\n",
    "elif 18.5<=bmi<=24.9:\n",
    "    print('your BMI is 18.5 to 24.9, it falls within the Healthy Weight range. please maintain your healthy diet')\n",
    "elif 24.9<bmi<=29.9:\n",
    "    print(' your BMI is 25.0 to 29.9, it falls within the overweight range. start doing some cardio')\n",
    "else:\n",
    "    print('your BMI is 30.0 or higher, it falls within the obese range. Stop eaiting and start going to gym')"
   ]
  },
  {
   "cell_type": "code",
   "execution_count": 3,
   "id": "60c0248d",
   "metadata": {},
   "outputs": [
    {
     "name": "stdout",
     "output_type": "stream",
     "text": [
      "Password is valid.\n"
     ]
    }
   ],
   "source": [
    "# Challenge Level:\n",
    "\n",
    "#31. Create a program that validates a password based on complexity rules (length, characters, etc.).\n",
    "import re\n",
    "\n",
    "def is_valid_password(password):\n",
    "    # Check if the password length is at least 8 characters\n",
    "    if 8<=len(password)<=32:\n",
    "        return True\n",
    "\n",
    "    # Check if the password contains at least one uppercase letter\n",
    "    if not re.search(r'[A-Z]', password):\n",
    "        return False\n",
    "\n",
    "    # Check if the password contains at least one lowercase letter\n",
    "    if not re.search(r'[a-z]', password):\n",
    "        return False\n",
    "\n",
    "    # Check if the password contains at least one digit\n",
    "    if not re.search(r'\\d', password):\n",
    "        return False\n",
    "\n",
    "    # Check if the password contains at least one special character\n",
    "    if not re.search(r'[!@#$%^&*()_+{}\\[\\]:;<>,.?~\\\\\\-]', password):\n",
    "        return False\n",
    "\n",
    "    # If all checks pass, the password is valid\n",
    "    return True\n",
    "\n",
    "# Test the function with a sample password\n",
    "password = \"Strong@123\"\n",
    "if is_valid_password(password):\n",
    "    print(\"Password is valid.\")\n",
    "else:\n",
    "    print(\"Password is not valid.\")\n",
    "\n",
    "            "
   ]
  },
  {
   "cell_type": "code",
   "execution_count": 10,
   "id": "490e8f4b",
   "metadata": {},
   "outputs": [
    {
     "name": "stdout",
     "output_type": "stream",
     "text": [
      "ENter number of rows: 3\n",
      "ENter number of column: 3\n",
      "\n",
      "Enter values for matrix A\n",
      "column 1 -> ENter 1 element:1\n",
      "column 2 -> ENter 1 element:2\n",
      "column 3 -> ENter 1 element:3\n",
      "column 1 -> ENter 2 element:5\n",
      "column 2 -> ENter 2 element:5\n",
      "column 3 -> ENter 2 element:5\n",
      "column 1 -> ENter 3 element:5\n",
      "column 2 -> ENter 3 element:4\n",
      "column 3 -> ENter 3 element:5\n",
      "\n",
      "Enter values for matrix B \n",
      "column 1 -> ENter 1 element:6\n",
      "column 2 -> ENter 1 element:5\n",
      "column 3 -> ENter 1 element:55\n",
      "column 1 -> ENter 2 element:2\n",
      "column 2 -> ENter 2 element:2\n",
      "column 3 -> ENter 2 element:2\n",
      "column 1 -> ENter 3 element:1\n",
      "column 2 -> ENter 3 element:1\n",
      "column 3 -> ENter 3 element:2\n",
      "\n",
      "Matrix-A :\n",
      "[1, 2, 3]\n",
      "[5, 5, 5]\n",
      "[5, 4, 5]\n",
      "\n",
      "Matrix-B :\n",
      "[6, 5, 55]\n",
      "[2, 2, 2]\n",
      "[1, 1, 2]\n",
      "\n",
      "Addition of Matrix-A and Matrix-B is :\n",
      "[7, 7, 58]\n",
      "[7, 7, 7]\n",
      "[6, 5, 7]\n"
     ]
    }
   ],
   "source": [
    "#32. Develop a program that performs matrix addition and subtraction based on user input.\n",
    "# importing numpy as np\n",
    "# matrix addition in python\n",
    "\n",
    "rows = int(input('ENter number of rows: '))\n",
    "cols  = int(input('ENter number of column: '))\n",
    "\n",
    "print() # for new line\n",
    "print('Enter values for matrix A')\n",
    "\n",
    "matrix_A = [[int(input(f\"column {j+1} -> ENter {i+1} element:\")) for j in range(cols)] for i in range(rows) ]  \n",
    "\n",
    "print() # for new line\n",
    "print('Enter values for matrix B ')\n",
    "\n",
    "matrix_B = [[int(input(f\"column {j+1} -> ENter {i+1} element:\")) for j in range(cols)] for i in range(rows) ]  \n",
    "\n",
    "print() #for new line\n",
    "\n",
    "print('Matrix-A :')\n",
    "for i in matrix_A:\n",
    "    print(i)\n",
    "\n",
    "print() #for new line\n",
    "\n",
    "print('Matrix-B :')\n",
    "for i in matrix_B:\n",
    "    print(i)\n",
    "\n",
    "# resultant matrix (matrix that store answer and intially it is Zero)\n",
    "result = [[0 for j in range(cols)] for i in range(rows)]\n",
    "\n",
    "# addition\n",
    "for i in range(rows):\n",
    "    for j in range(cols):\n",
    "        result[i][j] = matrix_A[i][j] + matrix_B[i][j]\n",
    "\n",
    "print() #for new line\n",
    "print('Addition of Matrix-A and Matrix-B is :')\n",
    "\n",
    "for i in result:\n",
    "    print(i)\n"
   ]
  },
  {
   "cell_type": "code",
   "execution_count": 12,
   "id": "607f8334",
   "metadata": {},
   "outputs": [
    {
     "name": "stdout",
     "output_type": "stream",
     "text": [
      "gcd( 10 , 15 ) =  5\n",
      "gcd( 35 , 10 ) =  5\n",
      "gcd( 31 , 2 ) =  1\n"
     ]
    }
   ],
   "source": [
    "#33. Write a program that calculates the greatest common divisor (GCD) of two numbers using the Euclidean algorithm.\n",
    "# Python3 program to demonstrate Basic Euclidean Algorithm\n",
    "\n",
    "\n",
    "# Function to return gcd of a and b\n",
    "def gcd(a, b):\n",
    "\tif a == 0:\n",
    "\t\treturn b\n",
    "\n",
    "\treturn gcd(b % a, a)\n",
    "\n",
    "# Driver code\n",
    "if __name__ == \"__main__\":\n",
    "    a = 10\n",
    "    b = 15\n",
    "    print(\"gcd(\", a, \",\", b, \") = \", gcd(a, b))\n",
    "\n",
    "    a = 35\n",
    "    b = 10\n",
    "    print(\"gcd(\", a, \",\", b, \") = \", gcd(a, b))\n",
    "\n",
    "    a = 31\n",
    "    b = 2\n",
    "    print(\"gcd(\", a, \",\", b, \") = \", gcd(a, b))\n"
   ]
  },
  {
   "cell_type": "code",
   "execution_count": 14,
   "id": "6e864da8",
   "metadata": {},
   "outputs": [
    {
     "name": "stdout",
     "output_type": "stream",
     "text": [
      "[114, 160, 60, 27]\n",
      "[74, 97, 73, 14]\n",
      "[119, 157, 112, 23]\n"
     ]
    }
   ],
   "source": [
    "#34. Build a program that performs matrix multiplication using nested loops and conditional statements.\n",
    "# Program to multiply two matrices using nested loops\n",
    "\n",
    "# 3x3 matrix\n",
    "X = [[12,7,3],\n",
    "    [4 ,5,6],\n",
    "    [7 ,8,9]]\n",
    "# 3x4 matrix\n",
    "Y = [[5,8,1,2],\n",
    "    [6,7,3,0],\n",
    "    [4,5,9,1]]\n",
    "# result is 3x4\n",
    "result = [[0,0,0,0],\n",
    "         [0,0,0,0],\n",
    "         [0,0,0,0]]\n",
    "\n",
    "# iterate through rows of X\n",
    "for i in range(len(X)):\n",
    "   # iterate through columns of Y\n",
    "   for j in range(len(Y[0])):\n",
    "       # iterate through rows of Y\n",
    "       for k in range(len(Y)):\n",
    "           result[i][j] += X[i][k] * Y[k][j]\n",
    "\n",
    "for r in result:\n",
    "   print(r)\n",
    "\n",
    "    "
   ]
  },
  {
   "cell_type": "code",
   "execution_count": 26,
   "id": "d27ba023",
   "metadata": {},
   "outputs": [
    {
     "name": "stdout",
     "output_type": "stream",
     "text": [
      "Welcome to Tic-Tac-Toe!\n",
      "  |   |  \n",
      "---------\n",
      "  |   |  \n",
      "---------\n",
      "  |   |  \n",
      "---------\n"
     ]
    },
    {
     "ename": "KeyboardInterrupt",
     "evalue": "Interrupted by user",
     "output_type": "error",
     "traceback": [
      "\u001b[1;31m---------------------------------------------------------------------------\u001b[0m",
      "\u001b[1;31mKeyboardInterrupt\u001b[0m                         Traceback (most recent call last)",
      "Cell \u001b[1;32mIn[26], line 58\u001b[0m\n\u001b[0;32m     55\u001b[0m             \u001b[38;5;28mprint\u001b[39m(\u001b[38;5;124m\"\u001b[39m\u001b[38;5;124mInvalid move. Try again.\u001b[39m\u001b[38;5;124m\"\u001b[39m)\n\u001b[0;32m     57\u001b[0m \u001b[38;5;28;01mif\u001b[39;00m \u001b[38;5;18m__name__\u001b[39m \u001b[38;5;241m==\u001b[39m \u001b[38;5;124m\"\u001b[39m\u001b[38;5;124m__main__\u001b[39m\u001b[38;5;124m\"\u001b[39m:\n\u001b[1;32m---> 58\u001b[0m     play_tic_tac_toe()\n",
      "Cell \u001b[1;32mIn[26], line 35\u001b[0m, in \u001b[0;36mplay_tic_tac_toe\u001b[1;34m()\u001b[0m\n\u001b[0;32m     33\u001b[0m \u001b[38;5;28;01mwhile\u001b[39;00m \u001b[38;5;28;01mTrue\u001b[39;00m:\n\u001b[0;32m     34\u001b[0m     \u001b[38;5;28;01mif\u001b[39;00m player \u001b[38;5;241m==\u001b[39m \u001b[38;5;124m'\u001b[39m\u001b[38;5;124mX\u001b[39m\u001b[38;5;124m'\u001b[39m:\n\u001b[1;32m---> 35\u001b[0m         row, col \u001b[38;5;241m=\u001b[39m \u001b[38;5;28mmap\u001b[39m(\u001b[38;5;28mint\u001b[39m, \u001b[38;5;28minput\u001b[39m(\u001b[38;5;124m\"\u001b[39m\u001b[38;5;124mEnter your move (row col): \u001b[39m\u001b[38;5;124m\"\u001b[39m)\u001b[38;5;241m.\u001b[39msplit())\n\u001b[0;32m     36\u001b[0m     \u001b[38;5;28;01melse\u001b[39;00m:\n\u001b[0;32m     37\u001b[0m         \u001b[38;5;28mprint\u001b[39m(\u001b[38;5;124m\"\u001b[39m\u001b[38;5;124mComputer\u001b[39m\u001b[38;5;124m'\u001b[39m\u001b[38;5;124ms turn...\u001b[39m\u001b[38;5;124m\"\u001b[39m)\n",
      "File \u001b[1;32mC:\\ProgramData\\anaconda3\\Lib\\site-packages\\ipykernel\\kernelbase.py:1175\u001b[0m, in \u001b[0;36mKernel.raw_input\u001b[1;34m(self, prompt)\u001b[0m\n\u001b[0;32m   1171\u001b[0m \u001b[38;5;28;01mif\u001b[39;00m \u001b[38;5;129;01mnot\u001b[39;00m \u001b[38;5;28mself\u001b[39m\u001b[38;5;241m.\u001b[39m_allow_stdin:\n\u001b[0;32m   1172\u001b[0m     \u001b[38;5;28;01mraise\u001b[39;00m StdinNotImplementedError(\n\u001b[0;32m   1173\u001b[0m         \u001b[38;5;124m\"\u001b[39m\u001b[38;5;124mraw_input was called, but this frontend does not support input requests.\u001b[39m\u001b[38;5;124m\"\u001b[39m\n\u001b[0;32m   1174\u001b[0m     )\n\u001b[1;32m-> 1175\u001b[0m \u001b[38;5;28;01mreturn\u001b[39;00m \u001b[38;5;28mself\u001b[39m\u001b[38;5;241m.\u001b[39m_input_request(\n\u001b[0;32m   1176\u001b[0m     \u001b[38;5;28mstr\u001b[39m(prompt),\n\u001b[0;32m   1177\u001b[0m     \u001b[38;5;28mself\u001b[39m\u001b[38;5;241m.\u001b[39m_parent_ident[\u001b[38;5;124m\"\u001b[39m\u001b[38;5;124mshell\u001b[39m\u001b[38;5;124m\"\u001b[39m],\n\u001b[0;32m   1178\u001b[0m     \u001b[38;5;28mself\u001b[39m\u001b[38;5;241m.\u001b[39mget_parent(\u001b[38;5;124m\"\u001b[39m\u001b[38;5;124mshell\u001b[39m\u001b[38;5;124m\"\u001b[39m),\n\u001b[0;32m   1179\u001b[0m     password\u001b[38;5;241m=\u001b[39m\u001b[38;5;28;01mFalse\u001b[39;00m,\n\u001b[0;32m   1180\u001b[0m )\n",
      "File \u001b[1;32mC:\\ProgramData\\anaconda3\\Lib\\site-packages\\ipykernel\\kernelbase.py:1217\u001b[0m, in \u001b[0;36mKernel._input_request\u001b[1;34m(self, prompt, ident, parent, password)\u001b[0m\n\u001b[0;32m   1214\u001b[0m             \u001b[38;5;28;01mbreak\u001b[39;00m\n\u001b[0;32m   1215\u001b[0m \u001b[38;5;28;01mexcept\u001b[39;00m \u001b[38;5;167;01mKeyboardInterrupt\u001b[39;00m:\n\u001b[0;32m   1216\u001b[0m     \u001b[38;5;66;03m# re-raise KeyboardInterrupt, to truncate traceback\u001b[39;00m\n\u001b[1;32m-> 1217\u001b[0m     \u001b[38;5;28;01mraise\u001b[39;00m \u001b[38;5;167;01mKeyboardInterrupt\u001b[39;00m(\u001b[38;5;124m\"\u001b[39m\u001b[38;5;124mInterrupted by user\u001b[39m\u001b[38;5;124m\"\u001b[39m) \u001b[38;5;28;01mfrom\u001b[39;00m \u001b[38;5;28;01mNone\u001b[39;00m\n\u001b[0;32m   1218\u001b[0m \u001b[38;5;28;01mexcept\u001b[39;00m \u001b[38;5;167;01mException\u001b[39;00m:\n\u001b[0;32m   1219\u001b[0m     \u001b[38;5;28mself\u001b[39m\u001b[38;5;241m.\u001b[39mlog\u001b[38;5;241m.\u001b[39mwarning(\u001b[38;5;124m\"\u001b[39m\u001b[38;5;124mInvalid Message:\u001b[39m\u001b[38;5;124m\"\u001b[39m, exc_info\u001b[38;5;241m=\u001b[39m\u001b[38;5;28;01mTrue\u001b[39;00m)\n",
      "\u001b[1;31mKeyboardInterrupt\u001b[0m: Interrupted by user"
     ]
    }
   ],
   "source": [
    "#35. Create a program that simulates a basic text-based tic-tac-toe game against the computer.\n",
    "import random\n",
    "\n",
    "def print_board(board):\n",
    "    for row in board:\n",
    "        print(\" | \".join(row))\n",
    "        print(\"-\" * 9)\n",
    "\n",
    "def is_winner(board, player):\n",
    "    # Check rows, columns, and diagonals for a win\n",
    "    for i in range(3):\n",
    "        if all(board[i][j] == player for j in range(3)) or all(board[j][i] == player for j in range(3)):\n",
    "            return True\n",
    "    if all(board[i][i] == player for i in range(3)) or all(board[i][2 - i] == player for i in range(3)):\n",
    "        return True\n",
    "    return False\n",
    "\n",
    "def is_board_full(board):\n",
    "    return all(cell != ' ' for row in board for cell in row)\n",
    "\n",
    "def get_computer_move(board):\n",
    "    empty_cells = [(i, j) for i in range(3) for j in range(3) if board[i][j] == ' ']\n",
    "    return random.choice(empty_cells)\n",
    "\n",
    "def play_tic_tac_toe():\n",
    "    board = [[' ' for _ in range(3)] for _ in range(3)]\n",
    "    player = 'X'\n",
    "    computer = 'O'\n",
    "\n",
    "    print(\"Welcome to Tic-Tac-Toe!\")\n",
    "    print_board(board)\n",
    "\n",
    "    while True:\n",
    "        if player == 'X':\n",
    "            row, col = map(int, input(\"Enter your move (row col): \").split())\n",
    "        else:\n",
    "            print(\"Computer's turn...\")\n",
    "            row, col = get_computer_move(board)\n",
    "            print(f\"Computer chooses {row} {col}\")\n",
    "\n",
    "        if board[row][col] == ' ':\n",
    "            board[row][col] = player\n",
    "            print_board(board)\n",
    "\n",
    "            if is_winner(board, player):\n",
    "                print(f\"{player} wins! Congratulations!\")\n",
    "                break\n",
    "            elif is_board_full(board):\n",
    "                print(\"It's a tie!\")\n",
    "                break\n",
    "\n",
    "            # Switch to the other player\n",
    "            player, computer = computer, player\n",
    "        else:\n",
    "            print(\"Invalid move. Try again.\")\n",
    "\n",
    "if __name__ == \"__main__\":\n",
    "    play_tic_tac_toe()"
   ]
  },
  {
   "cell_type": "code",
   "execution_count": 22,
   "id": "cac14d98",
   "metadata": {},
   "outputs": [
    {
     "ename": "SyntaxError",
     "evalue": "invalid syntax (941062450.py, line 1)",
     "output_type": "error",
     "traceback": [
      "\u001b[1;36m  Cell \u001b[1;32mIn[22], line 1\u001b[1;36m\u001b[0m\n\u001b[1;33m    36. Write a program that generates Fibonacci numbers up to a specified term using iterative methods.\u001b[0m\n\u001b[1;37m        ^\u001b[0m\n\u001b[1;31mSyntaxError\u001b[0m\u001b[1;31m:\u001b[0m invalid syntax\n"
     ]
    }
   ],
   "source": [
    "#36. Write a program that generates Fibonacci numbers up to a specified term using iterative methods."
   ]
  },
  {
   "cell_type": "code",
   "execution_count": 32,
   "id": "4f762c3c",
   "metadata": {},
   "outputs": [
    {
     "data": {
      "text/plain": [
       "144"
      ]
     },
     "execution_count": 32,
     "metadata": {},
     "output_type": "execute_result"
    }
   ],
   "source": [
    "#37. Develop a program that calculates the nth term of the Fibonacci sequence using memoization.\n",
    "def fib(n):\n",
    "    if n==1:\n",
    "        return 1\n",
    "    a1 = 1\n",
    "    a2 = 2\n",
    "    for i in range(2,n+1):\n",
    "            a3 = a1+a2\n",
    "            a1 = a2\n",
    "            a2 = a3\n",
    "    return a2\n",
    "fib(10)"
   ]
  },
  {
   "cell_type": "code",
   "execution_count": 33,
   "id": "a3daebc5",
   "metadata": {},
   "outputs": [
    {
     "name": "stdout",
     "output_type": "stream",
     "text": [
      "Enter the year (e.g., 2023): 2002\n",
      "Enter the month (1-12): 9\n",
      "Calendar for September 2002:\n",
      "\n",
      "   September 2002\n",
      "Mo Tu We Th Fr Sa Su\n",
      "                   1\n",
      " 2  3  4  5  6  7  8\n",
      " 9 10 11 12 13 14 15\n",
      "16 17 18 19 20 21 22\n",
      "23 24 25 26 27 28 29\n",
      "30\n",
      "\n"
     ]
    }
   ],
   "source": [
    "#38. Create a program that generates a calendar for a given month and year using conditional statements.\n",
    "import calendar\n",
    "\n",
    "def generate_calendar(year, month):\n",
    "    cal = calendar.month(year, month)\n",
    "    return cal\n",
    "\n",
    "def main():\n",
    "    year = int(input(\"Enter the year (e.g., 2023): \"))\n",
    "    month = int(input(\"Enter the month (1-12): \"))\n",
    "\n",
    "    if 1 <= month <= 12:\n",
    "        calendar_text = generate_calendar(year, month)\n",
    "        print(f\"Calendar for {calendar.month_name[month]} {year}:\\n\")\n",
    "        print(calendar_text)\n",
    "    else:\n",
    "        print(\"Invalid month input. Please enter a month between 1 and 12.\")\n",
    "\n",
    "if __name__ == \"__main__\":\n",
    "    main()\n"
   ]
  },
  {
   "cell_type": "code",
   "execution_count": 34,
   "id": "79103ae7",
   "metadata": {},
   "outputs": [
    {
     "name": "stdout",
     "output_type": "stream",
     "text": [
      "Welcome to Blackjack!\n",
      "\n",
      "Your hand:\n",
      "Eight of Clubs\n",
      "Six of Clubs\n",
      "Your hand value: 14\n",
      "Do you want to 'hit' or 'stand'? hit\n",
      "\n",
      "Your hand:\n",
      "Eight of Clubs\n",
      "Six of Clubs\n",
      "Ace of Spades\n",
      "Your hand value: 15\n",
      "Do you want to 'hit' or 'stand'? hit\n",
      "\n",
      "Your hand:\n",
      "Eight of Clubs\n",
      "Six of Clubs\n",
      "Ace of Spades\n",
      "Four of Diamonds\n",
      "Your hand value: 19\n",
      "Do you want to 'hit' or 'stand'? hit\n",
      "\n",
      "Your hand:\n",
      "Eight of Clubs\n",
      "Six of Clubs\n",
      "Ace of Spades\n",
      "Four of Diamonds\n",
      "Ten of Clubs\n",
      "Your hand value: 29\n",
      "Bust! You lose!\n",
      "\n",
      "Dealer's hand:\n",
      "Queen of Clubs\n",
      "Nine of Diamonds\n",
      "Dealer's hand value: 19\n",
      "You lose! (Busted)\n",
      "Do you want to play again? (yes/no): no\n"
     ]
    }
   ],
   "source": [
    "#39. Build a program that simulates a basic text-based blackjack game against the computer.\n",
    "import random\n",
    "\n",
    "# Define the deck of cards\n",
    "suits = [\"Hearts\", \"Diamonds\", \"Clubs\", \"Spades\"]\n",
    "ranks = [\"Two\", \"Three\", \"Four\", \"Five\", \"Six\", \"Seven\", \"Eight\", \"Nine\", \"Ten\", \"Jack\", \"Queen\", \"King\", \"Ace\"]\n",
    "\n",
    "# Define card values\n",
    "card_values = {\n",
    "    \"Two\": 2, \"Three\": 3, \"Four\": 4, \"Five\": 5, \"Six\": 6, \"Seven\": 7, \"Eight\": 8,\n",
    "    \"Nine\": 9, \"Ten\": 10, \"Jack\": 10, \"Queen\": 10, \"King\": 10, \"Ace\": 11\n",
    "}\n",
    "\n",
    "def create_deck():\n",
    "    deck = []\n",
    "    for suit in suits:\n",
    "        for rank in ranks:\n",
    "            deck.append(f\"{rank} of {suit}\")\n",
    "    return deck\n",
    "\n",
    "def deal_card(deck):\n",
    "    card = random.choice(deck)\n",
    "    deck.remove(card)\n",
    "    return card\n",
    "\n",
    "def calculate_hand_value(hand):\n",
    "    value = 0\n",
    "    num_aces = 0\n",
    "\n",
    "    for card in hand:\n",
    "        rank = card.split()[0]\n",
    "        value += card_values[rank]\n",
    "        if rank == \"Ace\":\n",
    "            num_aces += 1\n",
    "\n",
    "    while value > 21 and num_aces > 0:\n",
    "        value -= 10\n",
    "        num_aces -= 1\n",
    "\n",
    "    return value\n",
    "\n",
    "def print_hand(hand):\n",
    "    for card in hand:\n",
    "        print(card)\n",
    "\n",
    "def blackjack_game():\n",
    "    print(\"Welcome to Blackjack!\")\n",
    "\n",
    "    while True:\n",
    "        # Create a new deck and shuffle it\n",
    "        deck = create_deck()\n",
    "        random.shuffle(deck)\n",
    "\n",
    "        # Deal two cards to the player and two cards to the dealer\n",
    "        player_hand = [deal_card(deck), deal_card(deck)]\n",
    "        dealer_hand = [deal_card(deck), deal_card(deck)]\n",
    "\n",
    "        print(\"\\nYour hand:\")\n",
    "        print_hand(player_hand)\n",
    "\n",
    "        # Player's turn\n",
    "        while True:\n",
    "            player_value = calculate_hand_value(player_hand)\n",
    "            print(f\"Your hand value: {player_value}\")\n",
    "\n",
    "            if player_value == 21:\n",
    "                print(\"Blackjack! You win!\")\n",
    "                break\n",
    "            elif player_value > 21:\n",
    "                print(\"Bust! You lose!\")\n",
    "                break\n",
    "\n",
    "            action = input(\"Do you want to 'hit' or 'stand'? \").lower()\n",
    "            if action == 'hit':\n",
    "                player_hand.append(deal_card(deck))\n",
    "                print(\"\\nYour hand:\")\n",
    "                print_hand(player_hand)\n",
    "            elif action == 'stand':\n",
    "                break\n",
    "\n",
    "        # Dealer's turn\n",
    "        while calculate_hand_value(dealer_hand) < 17:\n",
    "            dealer_hand.append(deal_card(deck))\n",
    "\n",
    "        print(\"\\nDealer's hand:\")\n",
    "        print_hand(dealer_hand)\n",
    "        dealer_value = calculate_hand_value(dealer_hand)\n",
    "        print(f\"Dealer's hand value: {dealer_value}\")\n",
    "\n",
    "        # Determine the winner\n",
    "        if player_value > 21:\n",
    "            print(\"You lose! (Busted)\")\n",
    "        elif dealer_value > 21:\n",
    "            print(\"You win! (Dealer busted)\")\n",
    "        elif player_value > dealer_value:\n",
    "            print(\"You win!\")\n",
    "        elif player_value < dealer_value:\n",
    "            print(\"You lose!\")\n",
    "        else:\n",
    "            print(\"It's a tie!\")\n",
    "\n",
    "        play_again = input(\"Do you want to play again? (yes/no): \").lower()\n",
    "        if play_again != 'yes':\n",
    "            break\n",
    "\n",
    "if __name__ == \"__main__\":\n",
    "    blackjack_game()\n"
   ]
  },
  {
   "cell_type": "code",
   "execution_count": 35,
   "id": "06429494",
   "metadata": {},
   "outputs": [
    {
     "name": "stdout",
     "output_type": "stream",
     "text": [
      "Enter a number: 100\n",
      "The prime factors of 100 are: 2, 2, 5, 5\n"
     ]
    }
   ],
   "source": [
    "#40. Write a program that generates the prime factors of a given number using trial division.\n",
    "def prime_factors(n):\n",
    "    factors = []\n",
    "    div = 2  # Start with the smallest prime number\n",
    "\n",
    "    while div <= n:\n",
    "        if n % div == 0:\n",
    "            factors.append(div)\n",
    "            n //= div  # Divide n by the divisor repeatedly\n",
    "        else:\n",
    "            div += 1  # Try the next potential divisor\n",
    "\n",
    "    return factors\n",
    "\n",
    "# Input from the user\n",
    "num = int(input(\"Enter a number: \"))\n",
    "\n",
    "if num <= 0:\n",
    "    print(\"Please enter a positive integer.\")\n",
    "else:\n",
    "    factors = prime_factors(num)\n",
    "    if len(factors) == 1:\n",
    "        print(f\"{num} is a prime number.\")\n",
    "    else:\n",
    "        print(f\"The prime factors of {num} are: {', '.join(map(str, factors))}\")\n"
   ]
  },
  {
   "cell_type": "code",
   "execution_count": null,
   "id": "121d3040",
   "metadata": {},
   "outputs": [],
   "source": []
  }
 ],
 "metadata": {
  "kernelspec": {
   "display_name": "Python 3 (ipykernel)",
   "language": "python",
   "name": "python3"
  },
  "language_info": {
   "codemirror_mode": {
    "name": "ipython",
    "version": 3
   },
   "file_extension": ".py",
   "mimetype": "text/x-python",
   "name": "python",
   "nbconvert_exporter": "python",
   "pygments_lexer": "ipython3",
   "version": "3.11.4"
  }
 },
 "nbformat": 4,
 "nbformat_minor": 5
}
